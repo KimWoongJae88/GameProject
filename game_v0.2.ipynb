{
 "cells": [
  {
   "cell_type": "code",
   "execution_count": 1,
   "id": "03a7c08d",
   "metadata": {},
   "outputs": [
    {
     "name": "stdout",
     "output_type": "stream",
     "text": [
      "Python 3.8.5\r\n"
     ]
    }
   ],
   "source": [
    "!python -V"
   ]
  },
  {
   "cell_type": "code",
   "execution_count": 2,
   "id": "7b18170b",
   "metadata": {},
   "outputs": [
    {
     "name": "stdout",
     "output_type": "stream",
     "text": [
      "/Users/kimhyunjo/opt/anaconda3/envs/game/bin/pip\r\n"
     ]
    }
   ],
   "source": [
    "!which pip"
   ]
  },
  {
   "cell_type": "code",
   "execution_count": 3,
   "id": "bfa4f7f3",
   "metadata": {},
   "outputs": [
    {
     "name": "stdout",
     "output_type": "stream",
     "text": [
      "Collecting pygame\n",
      "  Using cached pygame-2.1.2-cp38-cp38-macosx_10_9_x86_64.whl (8.9 MB)\n",
      "Installing collected packages: pygame\n",
      "Successfully installed pygame-2.1.2\n"
     ]
    }
   ],
   "source": [
    "!pip3 install pygame"
   ]
  },
  {
   "cell_type": "code",
   "execution_count": 7,
   "id": "c4b28d95",
   "metadata": {},
   "outputs": [
    {
     "name": "stdout",
     "output_type": "stream",
     "text": [
      "충돌\n"
     ]
    }
   ],
   "source": [
    "import pygame\n",
    "import random\n",
    "\n",
    "#초기화 #중요!\n",
    "pygame.init() \n",
    "\n",
    "score = 0\n",
    "#FPS\n",
    "clock = pygame.time.Clock()\n",
    "\n",
    "#화면 크기 설정\n",
    "screenWidth = 480 #가로크기\n",
    "screenHeight = 640 #세로크기\n",
    "\n",
    "screen = pygame.display.set_mode((screenWidth,screenHeight))  #가로, 세로\n",
    "\n",
    "#배경이미지\n",
    "background = pygame.image.load(\"./png/background.png\")\n",
    "background = pygame.transform.scale(background, (480, 640))\n",
    "\n",
    "#캐릭터\n",
    "character = pygame.image.load(\"./png/pp.png\")\n",
    "character = pygame.transform.scale(character, (48, 64))\n",
    "\n",
    "characterSize = character.get_rect().size  #img크기 불러옴\n",
    "characterWidth = characterSize[0]\n",
    "characterHeight = characterSize[1]\n",
    "characterXpos = (screenWidth / 2) - (characterWidth / 2)\n",
    "characterYpos = screenHeight - characterHeight\n",
    "\n",
    "#이동할 좌표\n",
    "toX = 0\n",
    "toY = 0\n",
    "\n",
    "#이동속도\n",
    "characterSpeed = 0.6\n",
    "\n",
    "#난수 생성 - 똥 생성용\n",
    "randomNumber = 30\n",
    "poSpeed = 10\n",
    "\n",
    "#적\n",
    "enemy = pygame.image.load(\"./png/gun.png\")\n",
    "enemy = pygame.transform.scale(enemy, (20, 40))\n",
    "\n",
    "enemySize = enemy.get_rect().size\n",
    "enemyWidth = enemySize[0]\n",
    "enemyHeight = enemySize[1]\n",
    "enemyXpos = 200\n",
    "enemyYpos = 100\n",
    "\n",
    "#Title\n",
    "pygame.display.set_caption(\"뭔게임이야\")\n",
    "\n",
    "#폰트 정의\n",
    "game_font = pygame.font.Font(None,40) #폰트, 크기\n",
    "\n",
    "#게임 플레이 총 시간\n",
    "totalTime = 10\n",
    "startTicks = pygame.time.get_ticks()\n",
    "\n",
    "#Event\n",
    "running = True\n",
    "while running:  #실행창\n",
    "    dt = clock.tick(20)\n",
    "    #print(\"fps: \" + str(clock.get_fps()))\n",
    "    \n",
    "    #캐릭터가 1초 100만큼 이동:\n",
    "    #10FPs : 1초동안 10번 작동 -> 10만큼~~~ 100\n",
    "    #20FPs : 1초동안 20번 작동 -> 5만큼~~~ 100\n",
    "    for event in pygame.event.get(): #어떤 이벤트 발생했는지 판단함\n",
    "        if event.type == pygame.QUIT:\n",
    "            running = False\n",
    "        if event.type == pygame.KEYDOWN:\n",
    "            if event.key == pygame.K_LEFT:\n",
    "                toX -= characterSpeed\n",
    "            if event.key == pygame.K_RIGHT:\n",
    "                toX += characterSpeed\n",
    "            if event.key == pygame.K_UP:\n",
    "                toY -= characterSpeed\n",
    "            if event.key == pygame.K_DOWN:\n",
    "                toY += characterSpeed\n",
    "        if event.type == pygame.KEYUP:\n",
    "            if event.key == pygame.K_LEFT or event.key == pygame.K_RIGHT:\n",
    "                toX = 0\n",
    "            elif event.key == pygame.K_UP or event.key == pygame.K_DOWN:\n",
    "                toY = 0 \n",
    "    \n",
    "    #캐릭터 이동 & 프레임맞추기\n",
    "    characterXpos += toX * dt\n",
    "    characterYpos += toY * dt\n",
    "    \n",
    "    \n",
    "    #경계 설정-가로\n",
    "    if characterXpos < 0:\n",
    "        characterXpos = 0\n",
    "    elif characterXpos > screenWidth - characterWidth:\n",
    "        characterXpos = screenWidth - characterWidth\n",
    "    #경계 설정-세로\n",
    "    if characterYpos < 0:\n",
    "        characterYpos = 0\n",
    "    elif characterYpos > screenHeight - characterHeight:\n",
    "        characterYpos = screenHeight - characterHeight\n",
    "    \n",
    "    \n",
    "    randomNumber = random.randrange(1,200)\n",
    "    randomNumber2 = random.randrange(1,440)\n",
    "    \n",
    "    if enemyYpos > 640:\n",
    "        enemyYpos = randomNumber\n",
    "        enemyXpos = randomNumber2\n",
    "        score += 1\n",
    "        poSpeed += 2\n",
    "    \n",
    "    enemyYpos += poSpeed\n",
    "        \n",
    "    #충돌\n",
    "    characterRect = character.get_rect()\n",
    "    characterRect.left = characterXpos\n",
    "    characterRect.top = characterYpos\n",
    "    \n",
    "    enemyRect = enemy.get_rect()\n",
    "    enemyRect.left = enemyXpos\n",
    "    enemyRect.top = enemyYpos\n",
    "    \n",
    "    if characterRect.colliderect(enemyRect):\n",
    "        print(\"충돌\")\n",
    "        running = False\n",
    "            \n",
    "    #타이머\n",
    "    elapsedTime = (pygame.time.get_ticks()) / 1000\n",
    "    #경과시간이 ms 이므로 초단위로 표시\n",
    "    #if totalTime - elapsedTime < 0:\n",
    "        #print(\"시간초과\")\n",
    "        #running = False\n",
    "    timer = game_font.render(str(int(totalTime - elapsedTime)), True, (255,255,255))\n",
    "    # 출력할 글자, , 색상\n",
    "    scoree = game_font.render(str(score), True, (200,200,200))\n",
    "    \n",
    "    \n",
    "    #screen.fill((0,0,255))\n",
    "    screen.blit(background, (0,0)) \n",
    "    screen.blit(character, (characterXpos , characterYpos))\n",
    "    screen.blit(enemy, (enemyXpos , enemyYpos))\n",
    "    screen.blit(timer, (10,10))\n",
    "    screen.blit(scoree, (10,30))\n",
    "    pygame.display.update() #화면 새로고침\n",
    "\n",
    "pygame.quit()    #pygame 종료"
   ]
  },
  {
   "cell_type": "code",
   "execution_count": null,
   "id": "d1944749",
   "metadata": {},
   "outputs": [],
   "source": []
  }
 ],
 "metadata": {
  "kernelspec": {
   "display_name": "Python 3 (ipykernel)",
   "language": "python",
   "name": "python3"
  },
  "language_info": {
   "codemirror_mode": {
    "name": "ipython",
    "version": 3
   },
   "file_extension": ".py",
   "mimetype": "text/x-python",
   "name": "python",
   "nbconvert_exporter": "python",
   "pygments_lexer": "ipython3",
   "version": "3.8.5"
  }
 },
 "nbformat": 4,
 "nbformat_minor": 5
}
